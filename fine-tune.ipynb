{
  "nbformat": 4,
  "nbformat_minor": 0,
  "metadata": {
    "colab": {
      "provenance": [],
      "gpuType": "T4",
      "authorship_tag": "ABX9TyMPkyLjQYa6HIsL1p+bs755",
      "include_colab_link": true
    },
    "kernelspec": {
      "name": "python3",
      "display_name": "Python 3"
    },
    "language_info": {
      "name": "python"
    },
    "accelerator": "GPU"
  },
  "cells": [
    {
      "cell_type": "markdown",
      "metadata": {
        "id": "view-in-github",
        "colab_type": "text"
      },
      "source": [
        "<a href=\"https://colab.research.google.com/github/Sk16er/Fine-tune-llm/blob/main/fine-tune.ipynb\" target=\"_parent\"><img src=\"https://colab.research.google.com/assets/colab-badge.svg\" alt=\"Open In Colab\"/></a>"
      ]
    },
    {
      "cell_type": "code",
      "execution_count": 1,
      "metadata": {
        "id": "_cfBdsd0q8tK",
        "colab": {
          "base_uri": "https://localhost:8080/"
        },
        "outputId": "1b1bd698-2608-4eb8-d3d0-8d1b79bee94b"
      },
      "outputs": [
        {
          "output_type": "stream",
          "name": "stdout",
          "text": [
            "  Installing build dependencies ... \u001b[?25l\u001b[?25hdone\n",
            "  Getting requirements to build wheel ... \u001b[?25l\u001b[?25hdone\n",
            "  Preparing metadata (pyproject.toml) ... \u001b[?25l\u001b[?25hdone\n",
            "\u001b[2K     \u001b[90m━━━━━━━━━━━━━━━━━━━━━━━━━━━━━━━━━━━━━━━━\u001b[0m \u001b[32m40.1/40.1 kB\u001b[0m \u001b[31m2.7 MB/s\u001b[0m eta \u001b[36m0:00:00\u001b[0m\n",
            "\u001b[2K   \u001b[90m━━━━━━━━━━━━━━━━━━━━━━━━━━━━━━━━━━━━━━━━\u001b[0m \u001b[32m60.1/60.1 MB\u001b[0m \u001b[31m13.3 MB/s\u001b[0m eta \u001b[36m0:00:00\u001b[0m\n",
            "\u001b[2K   \u001b[90m━━━━━━━━━━━━━━━━━━━━━━━━━━━━━━━━━━━━━━━━\u001b[0m \u001b[32m506.8/506.8 kB\u001b[0m \u001b[31m17.0 MB/s\u001b[0m eta \u001b[36m0:00:00\u001b[0m\n",
            "\u001b[2K   \u001b[90m━━━━━━━━━━━━━━━━━━━━━━━━━━━━━━━━━━━━━━━━\u001b[0m \u001b[32m11.6/11.6 MB\u001b[0m \u001b[31m64.7 MB/s\u001b[0m eta \u001b[36m0:00:00\u001b[0m\n",
            "\u001b[2K   \u001b[90m━━━━━━━━━━━━━━━━━━━━━━━━━━━━━━━━━━━━━━━━\u001b[0m \u001b[32m272.2/272.2 kB\u001b[0m \u001b[31m10.9 MB/s\u001b[0m eta \u001b[36m0:00:00\u001b[0m\n",
            "\u001b[2K   \u001b[90m━━━━━━━━━━━━━━━━━━━━━━━━━━━━━━━━━━━━━━━━\u001b[0m \u001b[32m132.6/132.6 kB\u001b[0m \u001b[31m12.5 MB/s\u001b[0m eta \u001b[36m0:00:00\u001b[0m\n",
            "\u001b[2K   \u001b[90m━━━━━━━━━━━━━━━━━━━━━━━━━━━━━━━━━━━━━━━━\u001b[0m \u001b[32m47.7/47.7 MB\u001b[0m \u001b[31m10.9 MB/s\u001b[0m eta \u001b[36m0:00:00\u001b[0m\n",
            "\u001b[2K   \u001b[90m━━━━━━━━━━━━━━━━━━━━━━━━━━━━━━━━━━━━━━━━\u001b[0m \u001b[32m7.2/7.2 MB\u001b[0m \u001b[31m45.9 MB/s\u001b[0m eta \u001b[36m0:00:00\u001b[0m\n",
            "\u001b[2K   \u001b[90m━━━━━━━━━━━━━━━━━━━━━━━━━━━━━━━━━━━━━━━━\u001b[0m \u001b[32m564.7/564.7 kB\u001b[0m \u001b[31m13.8 MB/s\u001b[0m eta \u001b[36m0:00:00\u001b[0m\n",
            "\u001b[2K   \u001b[90m━━━━━━━━━━━━━━━━━━━━━━━━━━━━━━━━━━━━━━━━\u001b[0m \u001b[32m213.6/213.6 kB\u001b[0m \u001b[31m10.6 MB/s\u001b[0m eta \u001b[36m0:00:00\u001b[0m\n",
            "\u001b[?25h  Building wheel for unsloth (pyproject.toml) ... \u001b[?25l\u001b[?25hdone\n",
            "\u001b[31mERROR: pip's dependency resolver does not currently take into account all the packages that are installed. This behaviour is the source of the following dependency conflicts.\n",
            "pylibcudf-cu12 25.6.0 requires pyarrow<20.0.0a0,>=14.0.0; platform_machine == \"x86_64\", but you have pyarrow 22.0.0 which is incompatible.\n",
            "cudf-cu12 25.6.0 requires pyarrow<20.0.0a0,>=14.0.0; platform_machine == \"x86_64\", but you have pyarrow 22.0.0 which is incompatible.\u001b[0m\u001b[31m\n",
            "\u001b[2K   \u001b[90m━━━━━━━━━━━━━━━━━━━━━━━━━━━━━━━━━━━━━━━━\u001b[0m \u001b[32m245.2/245.2 kB\u001b[0m \u001b[31m11.7 MB/s\u001b[0m eta \u001b[36m0:00:00\u001b[0m\n",
            "\u001b[2K     \u001b[90m━━━━━━━━━━━━━━━━━━━━━━━━━━━━━━━━━━━━━━━━\u001b[0m \u001b[32m50.7/50.7 MB\u001b[0m \u001b[31m11.0 MB/s\u001b[0m eta \u001b[36m0:00:00\u001b[0m\n",
            "\u001b[?25h  Installing build dependencies ... \u001b[?25l\u001b[?25hdone\n",
            "  Getting requirements to build wheel ... \u001b[?25l\u001b[?25hdone\n",
            "  Installing backend dependencies ... \u001b[?25l\u001b[?25hdone\n",
            "  Preparing metadata (pyproject.toml) ... \u001b[?25l\u001b[?25hdone\n",
            "\u001b[2K   \u001b[90m━━━━━━━━━━━━━━━━━━━━━━━━━━━━━━━━━━━━━━━━\u001b[0m \u001b[32m45.5/45.5 kB\u001b[0m \u001b[31m4.8 MB/s\u001b[0m eta \u001b[36m0:00:00\u001b[0m\n",
            "\u001b[?25h  Building wheel for llama-cpp-python (pyproject.toml) ... \u001b[?25l\u001b[?25hcanceled\n",
            "\u001b[31mERROR: Operation cancelled by user\u001b[0m\u001b[31m\n",
            "\u001b[0m"
          ]
        }
      ],
      "source": [
        "# @title 1. Install Unsloth, Gradio, and GGUF Tools\n",
        "!pip install -q \"unsloth[colab-new] @ git+https://github.com/unslothai/unsloth.git\"\n",
        "!pip install -q --no-deps \"trl<0.9.0\" peft accelerate bitsandbytes\n",
        "!pip install -q gradio\n",
        "!pip install -q huggingface_hub\n",
        "!pip install -q llama-cpp-python[server]"
      ]
    },
    {
      "cell_type": "markdown",
      "source": [
        "Upload Your Dataset\n",
        "> After running, drag & drop your identity_dataset.jsonl file."
      ],
      "metadata": {
        "id": "R03RcyKIrJs8"
      }
    },
    {
      "cell_type": "code",
      "source": [
        "# @title 2. Upload `identity_dataset.jsonl`\n",
        "from google.colab import files\n",
        "print(\"Please upload your `identity_dataset.jsonl` file now...\")\n",
        "uploaded = files.upload()"
      ],
      "metadata": {
        "id": "3VU_ZDJArItV",
        "colab": {
          "base_uri": "https://localhost:8080/",
          "height": 55
        },
        "outputId": "c2f142ed-3983-4df1-ac63-c1e4b279add3"
      },
      "execution_count": null,
      "outputs": [
        {
          "output_type": "stream",
          "name": "stdout",
          "text": [
            "Please upload your `identity_dataset.jsonl` file now...\n"
          ]
        },
        {
          "output_type": "display_data",
          "data": {
            "text/plain": [
              "<IPython.core.display.HTML object>"
            ],
            "text/html": [
              "\n",
              "     <input type=\"file\" id=\"files-e19bc18c-36f8-4454-8b09-2e4e21ed6998\" name=\"files[]\" multiple disabled\n",
              "        style=\"border:none\" />\n",
              "     <output id=\"result-e19bc18c-36f8-4454-8b09-2e4e21ed6998\">\n",
              "      Upload widget is only available when the cell has been executed in the\n",
              "      current browser session. Please rerun this cell to enable.\n",
              "      </output>\n",
              "      <script>// Copyright 2017 Google LLC\n",
              "//\n",
              "// Licensed under the Apache License, Version 2.0 (the \"License\");\n",
              "// you may not use this file except in compliance with the License.\n",
              "// You may obtain a copy of the License at\n",
              "//\n",
              "//      http://www.apache.org/licenses/LICENSE-2.0\n",
              "//\n",
              "// Unless required by applicable law or agreed to in writing, software\n",
              "// distributed under the License is distributed on an \"AS IS\" BASIS,\n",
              "// WITHOUT WARRANTIES OR CONDITIONS OF ANY KIND, either express or implied.\n",
              "// See the License for the specific language governing permissions and\n",
              "// limitations under the License.\n",
              "\n",
              "/**\n",
              " * @fileoverview Helpers for google.colab Python module.\n",
              " */\n",
              "(function(scope) {\n",
              "function span(text, styleAttributes = {}) {\n",
              "  const element = document.createElement('span');\n",
              "  element.textContent = text;\n",
              "  for (const key of Object.keys(styleAttributes)) {\n",
              "    element.style[key] = styleAttributes[key];\n",
              "  }\n",
              "  return element;\n",
              "}\n",
              "\n",
              "// Max number of bytes which will be uploaded at a time.\n",
              "const MAX_PAYLOAD_SIZE = 100 * 1024;\n",
              "\n",
              "function _uploadFiles(inputId, outputId) {\n",
              "  const steps = uploadFilesStep(inputId, outputId);\n",
              "  const outputElement = document.getElementById(outputId);\n",
              "  // Cache steps on the outputElement to make it available for the next call\n",
              "  // to uploadFilesContinue from Python.\n",
              "  outputElement.steps = steps;\n",
              "\n",
              "  return _uploadFilesContinue(outputId);\n",
              "}\n",
              "\n",
              "// This is roughly an async generator (not supported in the browser yet),\n",
              "// where there are multiple asynchronous steps and the Python side is going\n",
              "// to poll for completion of each step.\n",
              "// This uses a Promise to block the python side on completion of each step,\n",
              "// then passes the result of the previous step as the input to the next step.\n",
              "function _uploadFilesContinue(outputId) {\n",
              "  const outputElement = document.getElementById(outputId);\n",
              "  const steps = outputElement.steps;\n",
              "\n",
              "  const next = steps.next(outputElement.lastPromiseValue);\n",
              "  return Promise.resolve(next.value.promise).then((value) => {\n",
              "    // Cache the last promise value to make it available to the next\n",
              "    // step of the generator.\n",
              "    outputElement.lastPromiseValue = value;\n",
              "    return next.value.response;\n",
              "  });\n",
              "}\n",
              "\n",
              "/**\n",
              " * Generator function which is called between each async step of the upload\n",
              " * process.\n",
              " * @param {string} inputId Element ID of the input file picker element.\n",
              " * @param {string} outputId Element ID of the output display.\n",
              " * @return {!Iterable<!Object>} Iterable of next steps.\n",
              " */\n",
              "function* uploadFilesStep(inputId, outputId) {\n",
              "  const inputElement = document.getElementById(inputId);\n",
              "  inputElement.disabled = false;\n",
              "\n",
              "  const outputElement = document.getElementById(outputId);\n",
              "  outputElement.innerHTML = '';\n",
              "\n",
              "  const pickedPromise = new Promise((resolve) => {\n",
              "    inputElement.addEventListener('change', (e) => {\n",
              "      resolve(e.target.files);\n",
              "    });\n",
              "  });\n",
              "\n",
              "  const cancel = document.createElement('button');\n",
              "  inputElement.parentElement.appendChild(cancel);\n",
              "  cancel.textContent = 'Cancel upload';\n",
              "  const cancelPromise = new Promise((resolve) => {\n",
              "    cancel.onclick = () => {\n",
              "      resolve(null);\n",
              "    };\n",
              "  });\n",
              "\n",
              "  // Wait for the user to pick the files.\n",
              "  const files = yield {\n",
              "    promise: Promise.race([pickedPromise, cancelPromise]),\n",
              "    response: {\n",
              "      action: 'starting',\n",
              "    }\n",
              "  };\n",
              "\n",
              "  cancel.remove();\n",
              "\n",
              "  // Disable the input element since further picks are not allowed.\n",
              "  inputElement.disabled = true;\n",
              "\n",
              "  if (!files) {\n",
              "    return {\n",
              "      response: {\n",
              "        action: 'complete',\n",
              "      }\n",
              "    };\n",
              "  }\n",
              "\n",
              "  for (const file of files) {\n",
              "    const li = document.createElement('li');\n",
              "    li.append(span(file.name, {fontWeight: 'bold'}));\n",
              "    li.append(span(\n",
              "        `(${file.type || 'n/a'}) - ${file.size} bytes, ` +\n",
              "        `last modified: ${\n",
              "            file.lastModifiedDate ? file.lastModifiedDate.toLocaleDateString() :\n",
              "                                    'n/a'} - `));\n",
              "    const percent = span('0% done');\n",
              "    li.appendChild(percent);\n",
              "\n",
              "    outputElement.appendChild(li);\n",
              "\n",
              "    const fileDataPromise = new Promise((resolve) => {\n",
              "      const reader = new FileReader();\n",
              "      reader.onload = (e) => {\n",
              "        resolve(e.target.result);\n",
              "      };\n",
              "      reader.readAsArrayBuffer(file);\n",
              "    });\n",
              "    // Wait for the data to be ready.\n",
              "    let fileData = yield {\n",
              "      promise: fileDataPromise,\n",
              "      response: {\n",
              "        action: 'continue',\n",
              "      }\n",
              "    };\n",
              "\n",
              "    // Use a chunked sending to avoid message size limits. See b/62115660.\n",
              "    let position = 0;\n",
              "    do {\n",
              "      const length = Math.min(fileData.byteLength - position, MAX_PAYLOAD_SIZE);\n",
              "      const chunk = new Uint8Array(fileData, position, length);\n",
              "      position += length;\n",
              "\n",
              "      const base64 = btoa(String.fromCharCode.apply(null, chunk));\n",
              "      yield {\n",
              "        response: {\n",
              "          action: 'append',\n",
              "          file: file.name,\n",
              "          data: base64,\n",
              "        },\n",
              "      };\n",
              "\n",
              "      let percentDone = fileData.byteLength === 0 ?\n",
              "          100 :\n",
              "          Math.round((position / fileData.byteLength) * 100);\n",
              "      percent.textContent = `${percentDone}% done`;\n",
              "\n",
              "    } while (position < fileData.byteLength);\n",
              "  }\n",
              "\n",
              "  // All done.\n",
              "  yield {\n",
              "    response: {\n",
              "      action: 'complete',\n",
              "    }\n",
              "  };\n",
              "}\n",
              "\n",
              "scope.google = scope.google || {};\n",
              "scope.google.colab = scope.google.colab || {};\n",
              "scope.google.colab._files = {\n",
              "  _uploadFiles,\n",
              "  _uploadFilesContinue,\n",
              "};\n",
              "})(self);\n",
              "</script> "
            ]
          },
          "metadata": {}
        }
      ]
    },
    {
      "cell_type": "code",
      "source": [
        "# @title 3. Load Gemma-3 + LoRA\n",
        "import torch\n",
        "from unsloth import FastModel\n",
        "\n",
        "MODEL_NAME = \"unsloth/gemma-3-270m-it\"\n",
        "MAX_SEQ_LEN = 2048\n",
        "LOAD_IN_4BIT = True\n",
        "\n",
        "model, tokenizer = FastModel.from_pretrained(\n",
        "    MODEL_NAME,\n",
        "    max_seq_length=MAX_SEQ_LEN,\n",
        "    load_in_4bit=LOAD_IN_4BIT,\n",
        "    full_finetuning=False,\n",
        ")\n",
        "\n",
        "model = FastModel.get_peft_model(\n",
        "    model,\n",
        "    r=16,\n",
        "    target_modules=[\"q_proj\", \"k_proj\", \"v_proj\", \"o_proj\",\n",
        "                    \"gate_proj\", \"up_proj\", \"down_proj\"],\n",
        ")\n",
        "\n",
        "print(\"Model loaded with LoRA\")"
      ],
      "metadata": {
        "id": "iO2g0a08rYE1"
      },
      "execution_count": null,
      "outputs": []
    },
    {
      "cell_type": "code",
      "source": [
        "# @title 4. Load Identity + FineTome-100k\n",
        "from datasets import load_dataset, concatenate_datasets\n",
        "from unsloth.chat_templates import standardize_sharegpt\n",
        "\n",
        "# Load your identity file\n",
        "identity_ds = load_dataset(\"json\", data_files=\"identity_dataset.jsonl\", split=\"train\")\n",
        "identity_ds = standardize_sharegpt(identity_ds)\n",
        "\n",
        "# Load high-quality base data\n",
        "base_ds = load_dataset(\"mlabonne/FineTome-100k\", split=\"train\")\n",
        "base_ds = standardize_sharegpt(base_ds)\n",
        "\n",
        "# Combine: identity first (stronger effect)\n",
        "dataset = concatenate_datasets([identity_ds, base_ds])\n",
        "\n",
        "print(f\"Total examples: {len(dataset)} (Identity: {len(identity_ds)} + Base: {len(base_ds)})\")"
      ],
      "metadata": {
        "id": "L0FvxbvCrbjV"
      },
      "execution_count": null,
      "outputs": []
    },
    {
      "cell_type": "code",
      "source": [
        "# @title 5. Apply Gemma-3 Chat Template\n",
        "def format_chat(ex):\n",
        "    texts = []\n",
        "    for conv in ex[\"conversations\"]:\n",
        "        text = tokenizer.apply_chat_template(conv, tokenize=False)\n",
        "        texts.append(text)\n",
        "    return {\"text\": texts}\n",
        "\n",
        "dataset = dataset.map(format_chat, batched=True)\n",
        "print(\"Dataset ready for training\")"
      ],
      "metadata": {
        "id": "SgxzX92aros3"
      },
      "execution_count": null,
      "outputs": []
    },
    {
      "cell_type": "markdown",
      "source": [
        "Fine-Tune the Model"
      ],
      "metadata": {
        "id": "rKALEk6HrgTt"
      }
    },
    {
      "cell_type": "code",
      "source": [
        "# @title 6. Train (60 steps ≈ 5–10 mins)\n",
        "from trl import SFTTrainer\n",
        "from transformers import TrainingArguments\n",
        "\n",
        "use_bf16 = torch.cuda.is_bf16_supported()\n",
        "trainer = SFTTrainer(\n",
        "    model=model,\n",
        "    tokenizer=tokenizer,\n",
        "    train_dataset=dataset,\n",
        "    dataset_text_field=\"text\",\n",
        "    max_seq_length=MAX_SEQ_LEN,\n",
        "    args=TrainingArguments(\n",
        "        per_device_train_batch_size=2,\n",
        "        gradient_accumulation_steps=4,\n",
        "        warmup_steps=5,\n",
        "        max_steps=60,\n",
        "        learning_rate=2e-4,\n",
        "        fp16=not use_bf16,\n",
        "        bf16=use_bf16,\n",
        "        logging_steps=1,\n",
        "        output_dir=\"outputs\",\n",
        "        optim=\"adamw_8bit\",\n",
        "    ),\n",
        ")\n",
        "\n",
        "print(\"Training...\")\n",
        "trainer.train()\n",
        "print(\"Training complete!\")"
      ],
      "metadata": {
        "id": "yxkCLaurrtmF"
      },
      "execution_count": null,
      "outputs": []
    },
    {
      "cell_type": "code",
      "source": [
        "# @title 7. Save LoRA Adapters\n",
        "lora_path = \"my_nova_lora\"\n",
        "model.save_pretrained(lora_path)\n",
        "tokenizer.save_pretrained(lora_path)\n",
        "print(f\"LoRA saved: {lora_path}\")"
      ],
      "metadata": {
        "id": "VBKyR0bnry82"
      },
      "execution_count": null,
      "outputs": []
    },
    {
      "cell_type": "code",
      "source": [
        "# @title 8. Merge LoRA into Base Model\n",
        "from peft import AutoPeftModelForCausalLM\n",
        "\n",
        "merged_model = AutoPeftModelForCausalLM.from_pretrained(\n",
        "    lora_path,\n",
        "    device_map=\"auto\",\n",
        "    torch_dtype=torch.bfloat16 if use_bf16 else torch.float16,\n",
        ")\n",
        "merged_model = merged_model.merge_and_unload()\n",
        "\n",
        "merged_path = \"my_nova_merged\"\n",
        "merged_model.save_pretrained(merged_path)\n",
        "tokenizer.save_pretrained(merged_path)\n",
        "print(f\"Merged model saved: {merged_path}\")"
      ],
      "metadata": {
        "id": "gnPnPA2gr2wW"
      },
      "execution_count": null,
      "outputs": []
    },
    {
      "cell_type": "markdown",
      "source": [
        "Optional : test with gradio [live chat]\n",
        ">You'll get a public link to chat.."
      ],
      "metadata": {
        "id": "PexF4Acbr5Kt"
      }
    },
    {
      "cell_type": "code",
      "source": [
        "# @title 9. Launch Gradio Chat UI\n",
        "import gradio as gr\n",
        "\n",
        "# Reload for inference\n",
        "model_inf, tokenizer_inf = FastModel.from_pretrained(\n",
        "    merged_path,\n",
        "    load_in_4bit=True,\n",
        ")\n",
        "model_inf.eval()\n",
        "\n",
        "def chat(message, history):\n",
        "    conv = []\n",
        "    for user, assistant in history:\n",
        "        conv.extend([{\"role\": \"user\", \"content\": user}, {\"role\": \"assistant\", \"content\": assistant}])\n",
        "    conv.append({\"role\": \"user\", \"content\": message})\n",
        "\n",
        "    inputs = tokenizer_inf.apply_chat_template(\n",
        "        conv, tokenize=True, add_generation_prompt=True, return_tensors=\"pt\"\n",
        "    ).to(\"cuda\")\n",
        "\n",
        "    outputs = model_inf.generate(\n",
        "        inputs, max_new_tokens=256, temperature=0.7, do_sample=True, top_p=0.9\n",
        "    )\n",
        "    response = tokenizer_inf.decode(outputs[0], skip_special_tokens=False)\n",
        "    response = response.split(\"<start_of_turn>model\")[-1].split(\"<end_of_turn>\")[0].strip()\n",
        "    return response\n",
        "\n",
        "gr.ChatInterface(\n",
        "    chat,\n",
        "    title=\"Nova – Your Custom AI\",\n",
        "    description=\"Fine-tuned by **you** using Unsloth + Gemma-3\",\n",
        "    examples=[\n",
        "        [\"Who created you?\"],\n",
        "        [\"Write a poem about stars\"],\n",
        "        [\"Explain Python in 2 sentences\"]\n",
        "    ]\n",
        ").launch(share=True)"
      ],
      "metadata": {
        "id": "FBc4c2Shr-jG"
      },
      "execution_count": null,
      "outputs": []
    },
    {
      "cell_type": "markdown",
      "source": [
        "Convert to GGUF (Q4_K_M)"
      ],
      "metadata": {
        "id": "I7XXslpwsIc_"
      }
    },
    {
      "cell_type": "code",
      "source": [
        "# @title 10. Convert to GGUF for Ollama\n",
        "!python -m llama_cpp.convert_hf_to_gguf \\\n",
        "    {merged_path} \\\n",
        "    --outfile my_nova.gguf \\\n",
        "    --outtype q4_k_m\n",
        "\n",
        "print(\"GGUF created: my_nova.gguf\")"
      ],
      "metadata": {
        "id": "1MwunGKmsK5U"
      },
      "execution_count": null,
      "outputs": []
    },
    {
      "cell_type": "markdown",
      "source": [
        " Create Ollama Modelfile"
      ],
      "metadata": {
        "id": "lEZabg_0sLmk"
      }
    },
    {
      "cell_type": "code",
      "source": [
        "# @title 11. Create Ollama Modelfile\n",
        "modelfile = \"\"\"\n",
        "FROM ./my_nova.gguf\n",
        "TEMPLATE \"\"\"{{ if .System }}{{ .System }}{{ end }}{{ if .Prompt }}{{ .Prompt }}{{ end }}<start_of_turn>model{{ .Response }}<end_of_turn>\"\"\"\n",
        "SYSTEM \"\"\".You are Nova, a large language model trained by Alex.\"\"\"\n",
        "\"\"\"\n",
        "\n",
        "with open(\"Modelfile\", \"w\") as f:\n",
        "    f.write(modelfile)\n",
        "\n",
        "print(\"Modelfile created!\")\n",
        "!cat Modelfile"
      ],
      "metadata": {
        "id": "8USKojYisNM-"
      },
      "execution_count": null,
      "outputs": []
    },
    {
      "cell_type": "markdown",
      "source": [
        "Download all files if you want"
      ],
      "metadata": {
        "id": "iftMXBlKsQG3"
      }
    },
    {
      "cell_type": "code",
      "source": [
        "# @title 12. Download Everything\n",
        "from google.colab import files\n",
        "\n",
        "files.download(\"my_nova.gguf\")\n",
        "files.download(\"Modelfile\")\n",
        "\n",
        "print(\"Downloaded: my_nova.gguf + Modelfile\")\n",
        "print(\"Ready for Ollama!\")"
      ],
      "metadata": {
        "id": "5NF-pt-VsTJn"
      },
      "execution_count": null,
      "outputs": []
    },
    {
      "cell_type": "markdown",
      "source": [
        "# Run in Ollama after downloading\n",
        "```bash\n",
        "# Put both files in a folder\n",
        "mkdir my_nova && cd my_nova\n",
        "mv ~/Downloads/my_nova.gguf .\n",
        "mv ~/Downloads/Modelfile .\n",
        "\n",
        "# Create and run\n",
        "ollama create nova -f Modelfile\n",
        "ollama run nova\n",
        "```\n",
        "> then ask\n",
        "\n",
        "`>>> Who are you?\n",
        "I am Nova, a helpful AI assistant created by Alex.\n",
        "`"
      ],
      "metadata": {
        "id": "ebtFVSJ4sWVW"
      }
    }
  ]
}